{
 "cells": [
  {
   "cell_type": "code",
   "execution_count": 3,
   "metadata": {},
   "outputs": [
    {
     "name": "stdout",
     "output_type": "stream",
     "text": [
      "Note: falling back to playback by exporting to temporary file then using system default player. It is recommended to install one of the supported I/O libraries for more flexible playback, for example simpleaudio, pygame or playsound (see docs for more). \n",
      "Temp file created at: /Users/arvinlim/Projects/JazzAI\\gensound_temp/gensound_temp_2023_01_10__16_10_05_naibdfqn.wav\n"
     ]
    },
    {
     "name": "stderr",
     "output_type": "stream",
     "text": [
      "UserWarning: Output audio signal amplitude exceeds 1 (max abs. amplitude 2.96). By default, the signal will be shrunk to fit range of [-1, 1] to prevent clipping. To prevent this behaviour, set the max_amplitude argument to zero, which leaves the signal untouched, or to any positive number, which will stretch/shrink it to match the given peak amplitude.\n"
     ]
    }
   ],
   "source": [
    "import src.load_data as load_data\n",
    "from src.generate_sound import generate_solo_sounds\n",
    "\n",
    "melid = 93\n",
    "bass_note_data = load_data.bass_note_pipeline()\n",
    "solo_bass_notes = bass_note_data.query(f'melid=={melid}')\n",
    "\n",
    "solo_data = load_data.data_pipeline()\n",
    "solo_melody_notes = solo_data.query(f'melid=={melid}')[['onset', 'octave', 'duration', 'melody_note']]\n",
    "\n",
    "W = generate_solo_sounds(solo_bass_notes, solo_melody_notes, bass_note_duration=0.1, snare_duration=0.1, snare_beats=[2, 4])\n",
    "W.play()\n"
   ]
  }
 ],
 "metadata": {
  "kernelspec": {
   "display_name": "JazzAI",
   "language": "python",
   "name": "python3"
  },
  "language_info": {
   "codemirror_mode": {
    "name": "ipython",
    "version": 3
   },
   "file_extension": ".py",
   "mimetype": "text/x-python",
   "name": "python",
   "nbconvert_exporter": "python",
   "pygments_lexer": "ipython3",
   "version": "3.11.1"
  },
  "orig_nbformat": 4,
  "vscode": {
   "interpreter": {
    "hash": "906df9705bf90d5ce3f314129fef7cdc83d7e08c8dffa0317fff4fa1f6055511"
   }
  }
 },
 "nbformat": 4,
 "nbformat_minor": 2
}
