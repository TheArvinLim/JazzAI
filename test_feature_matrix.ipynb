{
 "cells": [
  {
   "cell_type": "code",
   "execution_count": 1,
   "metadata": {},
   "outputs": [],
   "source": [
    "import src.load_data as load_data\n",
    "from src.feature_matrix import create_feature_matrix\n",
    "import seaborn as sns\n",
    "import pandas as pd\n",
    "\n",
    "# load in the data\n",
    "joined = load_data.data_pipeline()\n",
    "feature_matrix = create_feature_matrix(joined, melody_note_lags=range(1,5), chord_root_lags=range(-1,-2,-1), chord_type_lags=range(-1,-2,-1))"
   ]
  },
  {
   "cell_type": "code",
   "execution_count": 2,
   "metadata": {},
   "outputs": [],
   "source": [
    "y = feature_matrix['chord_root_melody_note_interval']\n",
    "X = feature_matrix.drop(['chord_root_melody_note_interval'], axis=1)"
   ]
  },
  {
   "cell_type": "code",
   "execution_count": null,
   "metadata": {},
   "outputs": [],
   "source": []
  }
 ],
 "metadata": {
  "kernelspec": {
   "display_name": "JazzAI",
   "language": "python",
   "name": "python3"
  },
  "language_info": {
   "codemirror_mode": {
    "name": "ipython",
    "version": 3
   },
   "file_extension": ".py",
   "mimetype": "text/x-python",
   "name": "python",
   "nbconvert_exporter": "python",
   "pygments_lexer": "ipython3",
   "version": "3.11.1"
  },
  "orig_nbformat": 4,
  "vscode": {
   "interpreter": {
    "hash": "906df9705bf90d5ce3f314129fef7cdc83d7e08c8dffa0317fff4fa1f6055511"
   }
  }
 },
 "nbformat": 4,
 "nbformat_minor": 2
}
